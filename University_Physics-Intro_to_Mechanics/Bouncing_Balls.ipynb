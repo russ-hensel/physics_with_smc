{
 "cells": [
  {
   "cell_type": "markdown",
   "metadata": {
    "collapsed": false
   },
   "source": [
    "The following example comes from the VPython documentation at [http://vpython.org/contents/docs/VPython_Intro.pdf](http://vpython.org/contents/docs/VPython_Intro.pdf).  It demonstrates how to create a box with walls that a single ball can bounce around inside of.\n",
    "\n",
    "Take a look at the code and see if you can figure out what each part does."
   ]
  },
  {
   "cell_type": "code",
   "execution_count": null,
   "metadata": {
    "collapsed": false
   },
   "outputs": [
    {
     "data": {
      "application/javascript": [
       "require.undef(\"nbextensions/jquery-ui.custom.min\");"
      ],
      "text/plain": [
       "<IPython.core.display.Javascript object>"
      ]
     },
     "metadata": {},
     "output_type": "display_data"
    },
    {
     "data": {
      "application/javascript": [
       "require.undef(\"nbextensions/glow.2.1.min\");"
      ],
      "text/plain": [
       "<IPython.core.display.Javascript object>"
      ]
     },
     "metadata": {},
     "output_type": "display_data"
    },
    {
     "data": {
      "application/javascript": [
       "require.undef(\"nbextensions/glowcomm\");"
      ],
      "text/plain": [
       "<IPython.core.display.Javascript object>"
      ]
     },
     "metadata": {},
     "output_type": "display_data"
    },
    {
     "data": {
      "application/javascript": [
       "require.undef(\"nbextensions/pako.min\");"
      ],
      "text/plain": [
       "<IPython.core.display.Javascript object>"
      ]
     },
     "metadata": {},
     "output_type": "display_data"
    },
    {
     "data": {
      "application/javascript": [
       "require.undef(\"nbextensions/pako_deflate.min\");"
      ],
      "text/plain": [
       "<IPython.core.display.Javascript object>"
      ]
     },
     "metadata": {},
     "output_type": "display_data"
    },
    {
     "data": {
      "application/javascript": [
       "require.undef(\"nbextensions/pako_inflate.min\");"
      ],
      "text/plain": [
       "<IPython.core.display.Javascript object>"
      ]
     },
     "metadata": {},
     "output_type": "display_data"
    },
    {
     "data": {
      "application/javascript": [
       "require([\"nbextensions/glowcomm\"], function(){console.log(\"glowcomm loaded\");})"
      ],
      "text/plain": [
       "<IPython.core.display.Javascript object>"
      ]
     },
     "metadata": {},
     "output_type": "display_data"
    },
    {
     "data": {
      "text/html": [
       "<div id=\"glowscript\" class=\"glowscript\"></div>"
      ],
      "text/plain": [
       "<IPython.core.display.HTML object>"
      ]
     },
     "metadata": {},
     "output_type": "display_data"
    },
    {
     "data": {
      "application/javascript": [
       "window.__context = { glowscript_container: $(\"#glowscript\").removeAttr(\"id\")}"
      ],
      "text/plain": [
       "<IPython.core.display.Javascript object>"
      ]
     },
     "metadata": {},
     "output_type": "display_data"
    }
   ],
   "source": [
    "from vpython import *\n",
    "\n",
    "L = 5.0\n",
    "thickness=0.2\n",
    "wall_Top = box (pos=vector(0,  L, 0), size=vector(2*L, thickness, 2*L),  color = color.blue)\n",
    "wall_Bottom = box (pos=vector(0, -L, 0), size=vector(2*L, thickness, 2*L),  color = color.blue)\n",
    "wall_Left = box (pos=vector(-L, 0, 0), size=vector(thickness, 2*L, 2*L),  color = color.red)\n",
    "wall_Right = box (pos=vector( L, 0, 0), size=vector(thickness, 2*L, 2*L),  color = color.red)\n",
    "wall_Back = box(pos=vector(0, 0, -L), size=vector(2*L, 2*L, thickness), color = color.red)\n",
    "\n",
    "ball = sphere (color = color.green, radius = 0.5, make_trail=True, retain=50, \n",
    "               trail_color=color.green)\n",
    "ball.mass = 1.0\n",
    "ball.p = vector(0.2, .3, .4)\n",
    "\n",
    "L=L-ball.radius\n",
    "\n",
    "dt = 0.5\n",
    "t = 0.0\n",
    "tf = 300.0\n",
    "\n",
    "\n",
    "while t<tf:\n",
    "    rate(40)\n",
    "    ball.pos = ball.pos + ball.p/ball.mass*dt\n",
    "    \n",
    "    ### Detect wall collisions\n",
    "    if ball.pos.x>L or ball.pos.x<-L:\n",
    "        ball.p.x = -ball.p.x\n",
    "    if ball.pos.y>L or ball.pos.y<-L:\n",
    "        ball.p.y = -ball.p.y\n",
    "    if ball.pos.z>L or ball.pos.z<-L:\n",
    "        ball.p.z = -ball.p.z\n",
    "        \n",
    "    t = t + dt   #Update time"
   ]
  },
  {
   "cell_type": "code",
   "execution_count": null,
   "metadata": {
    "collapsed": true
   },
   "outputs": [],
   "source": []
  }
 ],
 "metadata": {
  "kernelspec": {
   "display_name": "Python 2 (SageMath)",
   "language": "python",
   "name": "python2"
  },
  "language_info": {
   "codemirror_mode": {
    "name": "ipython",
    "version": 2
   },
   "file_extension": ".py",
   "mimetype": "text/x-python",
   "name": "python",
   "nbconvert_exporter": "python",
   "pygments_lexer": "ipython2",
   "version": "2.7.10"
  }
 },
 "nbformat": 4,
 "nbformat_minor": 0
}
