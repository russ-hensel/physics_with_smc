{
 "cells": [
  {
   "cell_type": "markdown",
   "metadata": {},
   "source": [
    "# Physutil\n",
    "\n",
    "Physutil is a hand Python script that makes it easy to draw motion diagrams, add a clock to the animation window, and draw graphs.  To use Physutil, all you need to do is copy *physutil.py* into the directory where your program is and include `from physutil import *` right after you import vpython.\n",
    "\n",
    "Documentation about the features in Physutil can be found [here](https://github.com/perlatmsu/physutil/wiki)"
   ]
  },
  {
   "cell_type": "markdown",
   "metadata": {},
   "source": [
    "You can add a clock to the VPython window using `PhysTimer()`.  First, create a timer and give it a name.  The name can be any valid variable name.  The arguments specify the x-position and y-position of the clock.  In this first example we will name our timer `timerDisplay`.  You create the time by including:\n",
    "```\n",
    "timerDisplay = PhysTimer(2,5)\n",
    "```\n",
    "\n",
    "The only other thing you need to do is create a variable to track the time and then update the display inside the `while` loop using\n",
    "\n",
    "```\n",
    "timerDisplay.update(t)\n",
    "```\n",
    "where `t` is the time to display.  The code below shows a timer running as a ball moves through the air."
   ]
  },
  {
   "cell_type": "code",
   "execution_count": 2,
   "metadata": {
    "collapsed": false
   },
   "outputs": [
    {
     "data": {
      "text/html": [
       "<div id=\"glowscript\" class=\"glowscript\"></div>"
      ],
      "text/plain": [
       "<IPython.core.display.HTML object>"
      ]
     },
     "metadata": {},
     "output_type": "display_data"
    },
    {
     "data": {
      "application/javascript": [
       "window.__context = { glowscript_container: $(\"#glowscript\").removeAttr(\"id\")}"
      ],
      "text/plain": [
       "<IPython.core.display.Javascript object>"
      ]
     },
     "metadata": {},
     "output_type": "display_data"
    }
   ],
   "source": [
    "from __future__ import division\n",
    "from vpython import *\n",
    "from physutil import *\n",
    "\n",
    "scene=canvas()  #Create canvas to draw on\n",
    "timerDisplay = PhysTimer(2, 5)   #Position a clock at position x=2,y=5\n",
    "\n",
    "\n",
    "ground=box(pos=vector(0,-1,0),axis=vector(1,0,0),length=20,height=0.1,color=color.green)  #Grass-colored box for reference\n",
    "\n",
    "\n",
    "ball=sphere(color=color.blue)   #Create the ball\n",
    "ball.vel=vector(10,10,0)  #Give ball a velocity\n",
    "\n",
    "\n",
    "g=vector(0,-9.8,0)  \n",
    "dt=0.01\n",
    "t=0  #Initial time\n",
    "tf=3  #Final time\n",
    "\n",
    "scene.waitfor('click')  #Won't start animation until you click inside the frame\n",
    "while t<tf:\n",
    "    rate(30)\n",
    "    ball.pos=ball.pos+ball.vel*dt   #update position\n",
    "    ball.vel=ball.vel + g*dt  #update velocity\n",
    "    t=t+dt   #Advance time step\n",
    "    timerDisplay.update(t)   #Update the clock time\n",
    "\n"
   ]
  },
  {
   "cell_type": "markdown",
   "metadata": {},
   "source": [
    "##### In addition to adding timers,  you can also create motion diagrams using the `MotionMap()` command in Physutil.\n",
    "\n",
    "First, create a new motion map by calling `MotionMap()` and passing the name of the object you want it to follow, the final time, and the number of positions you want markers placed at.  For instance\n",
    "```\n",
    "motionMap = MotionMap(ball, tf, 5)\n",
    "```\n",
    "creates a motion map that follows `ball` and will leave 6 arrows (5+1 arrows).\n",
    "\n",
    "You need to specify which quantity you wish to display and update it inside the `while` loop.  To display the velocity of the ball you would use \n",
    "```\n",
    "motionMap.update(t,ball.vel) \n",
    "```\n",
    "\n",
    "Execute the cell below to see this in action."
   ]
  },
  {
   "cell_type": "code",
   "execution_count": 1,
   "metadata": {
    "collapsed": false
   },
   "outputs": [
    {
     "data": {
      "text/html": [
       "<div id=\"glowscript\" class=\"glowscript\"></div>"
      ],
      "text/plain": [
       "<IPython.core.display.HTML object>"
      ]
     },
     "metadata": {},
     "output_type": "display_data"
    },
    {
     "data": {
      "application/javascript": [
       "window.__context = { glowscript_container: $(\"#glowscript\").removeAttr(\"id\")}"
      ],
      "text/plain": [
       "<IPython.core.display.Javascript object>"
      ]
     },
     "metadata": {},
     "output_type": "display_data"
    },
    {
     "name": "stdout",
     "output_type": "stream",
     "text": [
      "ERROR! Session/line number was not unique in database. History logging moved to new session 34\n"
     ]
    }
   ],
   "source": [
    "from __future__ import division\n",
    "from vpython import *\n",
    "from physutil import *\n",
    "\n",
    "scene=canvas()  #Create canvas to draw on\n",
    "timerDisplay = PhysTimer(2, 5)   #Position a clock at position x=2,y=5\n",
    "\n",
    "\n",
    "ground=box(pos=vector(0,-1,0),axis=vector(1,0,0),length=20,height=0.1,color=color.green)  #Grass-colored box for reference\n",
    "\n",
    "\n",
    "ball=sphere(color=color.blue)   #Create the ball\n",
    "ball.vel=vector(10,10,0)  #Give ball a velocity\n",
    "\n",
    "\n",
    "\n",
    "g=vector(0,-9.8,0)  \n",
    "dt=0.01\n",
    "t=0  #Initial time\n",
    "tf=3  #Final time\n",
    "motionMap = MotionMap(ball, tf, 5)  #Add a motion map\n",
    "\n",
    "scene.waitfor('click')  #Won't start animation until you click inside the frame\n",
    "while t<tf:\n",
    "    rate(30)\n",
    "    ball.pos=ball.pos+ball.vel*dt   #update position\n",
    "    ball.vel=ball.vel + g*dt  #update velocity\n",
    "    t=t+dt   #Advance time step\n",
    "    timerDisplay.update(t)   #Update the clock time\n",
    "    motionMap.update(t,ball.vel)   #Update the motion map to display velocity"
   ]
  },
  {
   "cell_type": "markdown",
   "metadata": {
    "collapsed": true
   },
   "source": [
    "### For You To Try\n",
    "\n",
    "- You can scale the arrow size by including `markerScale=0.5` as one of the arguments of the `MotionMap()`.  Add this argument to the code above.\n",
    "- Once you've tried scaling the arrow size, try plotting the force on the particle at each point.  Assume the ball has a mass of 1 kg so the force on the ball is just `g`.  You may need to scale this vector."
   ]
  },
  {
   "cell_type": "markdown",
   "metadata": {},
   "source": [
    "You can also use PhysGraph(), which is slightly simplier to use that the VPython graph features.\n",
    "\n",
    "All you need to do is create the graph object using `PhysGraph()` and then update the graph "
   ]
  },
  {
   "cell_type": "code",
   "execution_count": null,
   "metadata": {
    "collapsed": false
   },
   "outputs": [],
   "source": [
    "from __future__ import division\n",
    "from vpython import *\n",
    "from physutil import *\n",
    "\n",
    "scene=canvas()  #Create canvas to draw on\n",
    "timerDisplay = PhysTimer(2, 5)   #Position a clock at position x=2,y=5\n",
    "\n",
    "\n",
    "ground=box(pos=vector(0,-1,0),axis=vector(1,0,0),length=20,height=0.1,color=color.green)  #Grass-colored box for reference\n",
    "\n",
    "\n",
    "ball=sphere(color=color.blue)   #Create the ball\n",
    "ball.vel=vector(10,10,0)  #Give ball a velocity\n",
    "\n",
    "\n",
    "\n",
    "graphExample = PhysGraph() \n",
    "\n",
    "\n",
    "g=vector(0,-9.8,0)  \n",
    "dt=0.01\n",
    "t=0  #Initial time\n",
    "tf=3  #Final time\n",
    "motionMap = MotionMap(ball, tf, 5, markerScale=0.5,dropTime=True,timeOffset=vector(0,-2,0))  #Add a motion map\n",
    "\n",
    "scene.waitfor('click')  #Won't start animation until you click inside the frame\n",
    "while t<tf:\n",
    "    rate(30)\n",
    "    ball.pos=ball.pos+ball.vel*dt   #update position\n",
    "    ball.vel=ball.vel + g*dt  #update velocity\n",
    "    t=t+dt   #Advance time step\n",
    "    timerDisplay.update(t)   #Update the clock time\n",
    "    motionMap.update(t,ball.vel)   #Update the motion map to display velocity\n",
    "    graphExample.plot(t, ball.pos.y)  #Graph y-position"
   ]
  }
 ],
 "metadata": {
  "kernelspec": {
   "display_name": "Python 2 (SageMath)",
   "language": "python",
   "name": "python2"
  },
  "language_info": {
   "codemirror_mode": {
    "name": "ipython",
    "version": 2
   },
   "file_extension": ".py",
   "mimetype": "text/x-python",
   "name": "python",
   "nbconvert_exporter": "python",
   "pygments_lexer": "ipython2",
   "version": "2.7.10"
  }
 },
 "nbformat": 4,
 "nbformat_minor": 0
}
