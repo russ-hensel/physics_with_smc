{
 "cells": [
  {
   "cell_type": "markdown",
   "metadata": {
    "collapsed": false
   },
   "source": [
    "## Modeling Constant Acceleration\n",
    "\n",
    "For an object that is accelerating, you need to update the velocity at each time step in addition to updating the position.  The easiest way to update velocity is to use the definition of average acceleration:\n",
    "\n",
    "$$\\vec{a}=\\frac{\\Delta \\vec{v}}{\\Delta t}=\\frac{\\vec{v}_f - \\vec{v}_i}{t_f - t_i}$$\n",
    "$$\\vec{v}_f = \\vec{v}_i + \\vec{a}(t_f - t_i)$$\n",
    "\n",
    "Because of the way compute programs work, the line `ball.vel = ball.vel + g*dt` is equivalent to the above equation.  In other words, Python calculates everything to the right of the equals sign and then assigns it to the variable to the left.  This means that `ball.vel` on the right side is the initial velocity $\\vec{v}_i$, while `ball.vel` on the left side is actually the final velocity $\\vec{v}_f$.\n",
    "\n",
    "Run the code below to see a ball moving with a constant gravitational force.  You'll need to click on the animation frame to get the motion started.\n"
   ]
  },
  {
   "cell_type": "code",
   "execution_count": 2,
   "metadata": {
    "collapsed": false
   },
   "outputs": [
    {
     "data": {
      "text/html": [
       "<div id=\"glowscript\" class=\"glowscript\"></div>"
      ],
      "text/plain": [
       "<IPython.core.display.HTML object>"
      ]
     },
     "metadata": {},
     "output_type": "display_data"
    },
    {
     "data": {
      "application/javascript": [
       "window.__context = { glowscript_container: $(\"#glowscript\").removeAttr(\"id\")}"
      ],
      "text/plain": [
       "<IPython.core.display.Javascript object>"
      ]
     },
     "metadata": {},
     "output_type": "display_data"
    }
   ],
   "source": [
    "from vpython import *\n",
    "\n",
    "scene=canvas()  #Create canvas to draw on\n",
    "graph_screen=graph(width=400,height=400,xtitle='time', ytitle='Position',xmin=0,xmax=3,ymin=-10,ymax=10)\n",
    "pos_graph = gcurve(color=color.blue, width=4)   #Create curve to plot position vs. time\n",
    "graph_screen2=graph(width=400,height=400,xtitle='time', ytitle='Velocity', xmin=0,xmax=3,ymin=-20,ymax=10)\n",
    "vel_graph = gcurve(color=color.red,width=3)   #Curve for velocity\n",
    "\n",
    "\n",
    "\n",
    "ground=box(pos=vector(0,-1,0),axis=vector(1,0,0),length=20,height=0.1,color=color.green)  #Grass-colored box for reference\n",
    "\n",
    "ball=sphere(color=color.blue)   #Create the ball\n",
    "ball.vel=vector(10,10,0)  #Give ball a velocity\n",
    "attach_arrow(ball,\"vel\",scale=.5,color=color.yellow)  #Attach an arrow to show velocity\n",
    "attach_trail(ball,color=color.yellow,type=\"points\",retain=10,pps=1)\n",
    "\n",
    "g=vector(0,-9.8,0)  \n",
    "dt=0.01\n",
    "t=0\n",
    "tf=3\n",
    "\n",
    "scene.waitfor('click')  #Won't start animation until you click inside the frame\n",
    "while t<tf:\n",
    "    rate(30)\n",
    "    ball.pos=ball.pos+ball.vel*dt   #update position\n",
    "    ball.vel=ball.vel + g*dt  #update velocity\n",
    "    position=ball.pos.y   #For plotting position\n",
    "    velocity=ball.vel.y   #For plotting velocity\n",
    "    t=t+dt   #Advance time step\n",
    "    pos_graph.plot(pos=(t,position))   #Plot a single data point on the graph\n",
    "    vel_graph.plot(pos=(t,velocity))\n"
   ]
  },
  {
   "cell_type": "markdown",
   "metadata": {
    "collapsed": true
   },
   "source": [
    "The ball leaves a trail behind it because of the `attach_trail()` command.  The arrow pointing in the direction of motion is from the `attach_arrow()` command.\n",
    "\n",
    "The two graphs below the animation frame dispaly the y-position vs. time graph and the y-velocity vs. time graph.\n",
    "\n",
    "### For You To Try\n",
    "\n",
    "- Add a second object with a different initial velocity\n",
    "- Add curves to both graphs for this new object and plot the y-position and y-velocity"
   ]
  },
  {
   "cell_type": "markdown",
   "metadata": {
    "collapsed": true
   },
   "source": [
    "### For You To Try\n",
    "\n",
    "- Plot the analytical solution for the y-position on the graph to compare to the computational result\n",
    "\n",
    "To compare this result to the exact analytical result ($y_f = y_i+v_{0y}t + \\frac{1}{2} a t^2$) to the computed results, we can plot the analytical solution on the same graph as the position.  To do this you will need to add another `gcurve()` to the first graph screen.  Create another `gcurve` called `pos_exact_graph` and insert the code below where it says `### Add code for pos_exact_graph here`.  Give the curve a different color.\n",
    "\n",
    "Next you will need to plot the graph.  You can do this inside the while loop by calculating the y-position using $y_f = y_i+v_{0y}t + \\frac{1}{2} a t^2$ and then calling `pos_exact_graph.plot()` to plot the exact position vs. time.  All of this code can go where it says `###Add code to calculate position using analytical equation and plot it here.`   I recommend shifting $y_i$ for the exact solution up 1 m so the two curves are slightly shifted."
   ]
  },
  {
   "cell_type": "code",
   "execution_count": 1,
   "metadata": {
    "collapsed": false
   },
   "outputs": [
    {
     "data": {
      "application/javascript": [
       "require.undef(\"nbextensions/jquery-ui.custom.min\");"
      ],
      "text/plain": [
       "<IPython.core.display.Javascript object>"
      ]
     },
     "metadata": {},
     "output_type": "display_data"
    },
    {
     "data": {
      "application/javascript": [
       "require.undef(\"nbextensions/glow.2.1.min\");"
      ],
      "text/plain": [
       "<IPython.core.display.Javascript object>"
      ]
     },
     "metadata": {},
     "output_type": "display_data"
    },
    {
     "data": {
      "application/javascript": [
       "require.undef(\"nbextensions/glowcomm\");"
      ],
      "text/plain": [
       "<IPython.core.display.Javascript object>"
      ]
     },
     "metadata": {},
     "output_type": "display_data"
    },
    {
     "data": {
      "application/javascript": [
       "require.undef(\"nbextensions/pako.min\");"
      ],
      "text/plain": [
       "<IPython.core.display.Javascript object>"
      ]
     },
     "metadata": {},
     "output_type": "display_data"
    },
    {
     "data": {
      "application/javascript": [
       "require.undef(\"nbextensions/pako_deflate.min\");"
      ],
      "text/plain": [
       "<IPython.core.display.Javascript object>"
      ]
     },
     "metadata": {},
     "output_type": "display_data"
    },
    {
     "data": {
      "application/javascript": [
       "require.undef(\"nbextensions/pako_inflate.min\");"
      ],
      "text/plain": [
       "<IPython.core.display.Javascript object>"
      ]
     },
     "metadata": {},
     "output_type": "display_data"
    },
    {
     "data": {
      "application/javascript": [
       "require([\"nbextensions/glowcomm\"], function(){console.log(\"glowcomm loaded\");})"
      ],
      "text/plain": [
       "<IPython.core.display.Javascript object>"
      ]
     },
     "metadata": {},
     "output_type": "display_data"
    },
    {
     "data": {
      "text/html": [
       "<div id=\"glowscript\" class=\"glowscript\"></div>"
      ],
      "text/plain": [
       "<IPython.core.display.HTML object>"
      ]
     },
     "metadata": {},
     "output_type": "display_data"
    },
    {
     "data": {
      "application/javascript": [
       "window.__context = { glowscript_container: $(\"#glowscript\").removeAttr(\"id\")}"
      ],
      "text/plain": [
       "<IPython.core.display.Javascript object>"
      ]
     },
     "metadata": {},
     "output_type": "display_data"
    },
    {
     "data": {
      "text/html": [
       "<div id=\"glowscript\" class=\"glowscript\"></div>"
      ],
      "text/plain": [
       "<IPython.core.display.HTML object>"
      ]
     },
     "metadata": {},
     "output_type": "display_data"
    },
    {
     "data": {
      "application/javascript": [
       "window.__context = { glowscript_container: $(\"#glowscript\").removeAttr(\"id\")}"
      ],
      "text/plain": [
       "<IPython.core.display.Javascript object>"
      ]
     },
     "metadata": {},
     "output_type": "display_data"
    }
   ],
   "source": [
    "from vpython import *\n",
    "\n",
    "scene=canvas()  #Create canvas to draw on\n",
    "graph_screen=graph(width=400,height=400,xtitle='time', ytitle='Position',xmin=0,xmax=3,ymin=-10,ymax=10)\n",
    "pos_graph = gcurve(color=color.blue, width=4)   #Create curve to plot position vs. time\n",
    "### Add code for pos_exact_graph here\n",
    "\n",
    "graph_screen2=graph(width=400,height=400,xtitle='time', ytitle='Velocity', xmin=0,xmax=3,ymin=-20,ymax=10)\n",
    "vel_graph = gcurve(color=color.red,width=3)   #Curve for velocity\n",
    "\n",
    "\n",
    "\n",
    "ground=box(pos=vector(0,-1,0),axis=vector(1,0,0),length=20,height=0.1,color=color.green)  #Grass-colored box for reference\n",
    "\n",
    "ball=sphere(color=color.blue)   #Create the ball\n",
    "ball.vel=vector(10,10,0)  #Give ball a velocity\n",
    "attach_arrow(ball,\"vel\",scale=.5,color=color.yellow)  #Attach an arrow to show velocity\n",
    "attach_trail(ball,color=color.yellow,type=\"points\",retain=10,pps=1)\n",
    "\n",
    "g=vector(0,-9.8,0)  \n",
    "dt=0.01\n",
    "t=0\n",
    "tf=3\n",
    "\n",
    "scene.waitfor('click')  #Won't start animation until you click inside the frame\n",
    "while t<tf:\n",
    "    rate(30)\n",
    "    ball.pos=ball.pos+ball.vel*dt   #update position\n",
    "    ball.vel=ball.vel + g*dt  #update velocity\n",
    "    position=ball.pos.y   #For plotting position\n",
    "    velocity=ball.vel.y   #For plotting velocity\n",
    "    t=t+dt   #Advance time step\n",
    "    pos_graph.plot(pos=(t,position))   #Plot a single data point on the graph\n",
    "    ###Add code to calculate position using analytical equation and plot it here.\n",
    "    \n",
    "    vel_graph.plot(pos=(t,velocity))\n"
   ]
  },
  {
   "cell_type": "markdown",
   "metadata": {},
   "source": [
    "Once you are done you can move on to [Motion Diagrams in VPython](Physutil_and_VPython.ipynb)."
   ]
  },
  {
   "cell_type": "code",
   "execution_count": null,
   "metadata": {
    "collapsed": true
   },
   "outputs": [],
   "source": []
  }
 ],
 "metadata": {
  "kernelspec": {
   "display_name": "Python 2 (SageMath)",
   "language": "python",
   "name": "python2"
  },
  "language_info": {
   "codemirror_mode": {
    "name": "ipython",
    "version": 2
   },
   "file_extension": ".py",
   "mimetype": "text/x-python",
   "name": "python",
   "nbconvert_exporter": "python",
   "pygments_lexer": "ipython2",
   "version": "2.7.10"
  }
 },
 "nbformat": 4,
 "nbformat_minor": 0
}
