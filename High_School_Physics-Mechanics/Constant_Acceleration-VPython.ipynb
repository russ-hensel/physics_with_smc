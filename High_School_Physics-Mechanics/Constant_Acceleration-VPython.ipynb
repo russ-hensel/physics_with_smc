{
 "cells": [
  {
   "cell_type": "markdown",
   "metadata": {
    "collapsed": false
   },
   "source": [
    "For an object that is accelerating, you need to update the velocity at each time step in addition to updating the position.  The easiest way to update velocity is to use the definition of acceleration:\n",
    "\n",
    "$$\\vec{a}=\\frac{\\vec{v}_f - \\vec{v}_i}{t_f - t_i}$$\n",
    "$$\\vec{v}_f = \\vec{v}_i + \\vec{a}(t_f - t_i)$$\n",
    "\n",
    "Because of the way compute programs work, the line `ball.vel = ball.vel + g*dt` is equivalent to the above equation.  In other words, Python calculates everything to the right of the equals sign and then assigns it to the variable to the left.  This means that `ball.vel` on the right side is the initial velocity $\\vec{v}_i$, while `ball.vel` on the left side is actually the final velocity $\\vec{v}_f$.\n",
    "\n",
    "Run the code below to see a ball moving with a constant gravitational force.\n"
   ]
  },
  {
   "cell_type": "code",
   "execution_count": 3,
   "metadata": {
    "collapsed": false
   },
   "outputs": [
    {
     "data": {
      "text/html": [
       "<div id=\"glowscript\" class=\"glowscript\"></div>"
      ],
      "text/plain": [
       "<IPython.core.display.HTML object>"
      ]
     },
     "metadata": {},
     "output_type": "display_data"
    },
    {
     "data": {
      "application/javascript": [
       "window.__context = { glowscript_container: $(\"#glowscript\").removeAttr(\"id\")}"
      ],
      "text/plain": [
       "<IPython.core.display.Javascript object>"
      ]
     },
     "metadata": {},
     "output_type": "display_data"
    }
   ],
   "source": [
    "from vpython import *\n",
    "\n",
    "scene=canvas()  #Create canvas to draw on\n",
    "graph_screen=graph(width=400,height=400,xtitle='time', ytitle='Position',xmin=0,xmax=3,ymin=-10,ymax=10)\n",
    "pos_graph = gcurve(color=color.blue, width=4)   #Create curve to plot position vs. time\n",
    "graph_screen2=graph(width=400,height=400,xtitle='time', ytitle='Velocity', xmin=0,xmax=3,ymin=-20,ymax=10)\n",
    "vel_graph = gcurve(color=color.red,width=3)   #Curve for velocity\n",
    "\n",
    "\n",
    "\n",
    "ground=box(pos=vector(0,-1,0),axis=vector(1,0,0),length=20,height=0.1,color=color.green)  #Grass-colored box for reference\n",
    "\n",
    "ball=sphere(color=color.blue)   #Create the ball\n",
    "ball.vel=vector(10,10,0)  #Give ball a velocity\n",
    "attach_arrow(ball,\"vel\",scale=.5,color=color.yellow)  #Attach an arrow to show velocity\n",
    "attach_trail(ball,color=color.yellow,type=\"points\",retain=10,pps=1)\n",
    "\n",
    "g=vector(0,-9.8,0)  \n",
    "dt=0.01\n",
    "t=0\n",
    "\n",
    "while t<300:\n",
    "    rate(30)\n",
    "    ball.pos=ball.pos+ball.vel*dt   #update position\n",
    "    ball.vel=ball.vel + g*dt  #update velocity\n",
    "    position=ball.pos.y   #For plotting position\n",
    "    velocity=ball.vel.y   #For plotting velocity\n",
    "    time=t*dt     #For plotting\n",
    "    pos_graph.plot(pos=(time,position))   #Plot a single data point on the graph\n",
    "    vel_graph.plot(pos=(time,velocity))\n",
    "    t=t+1   #Advance time step"
   ]
  },
  {
   "cell_type": "markdown",
   "metadata": {
    "collapsed": true
   },
   "source": [
    "### For You To Try\n",
    "\n",
    "- Add a second object with a different initial velocity\n",
    "- Add curves to both graphs for this new object and plot the y-position and y-velocity"
   ]
  },
  {
   "cell_type": "code",
   "execution_count": null,
   "metadata": {
    "collapsed": true
   },
   "outputs": [],
   "source": []
  }
 ],
 "metadata": {
  "kernelspec": {
   "display_name": "Python 2 (SageMath)",
   "language": "python",
   "name": "python2"
  },
  "language_info": {
   "codemirror_mode": {
    "name": "ipython",
    "version": 2
   },
   "file_extension": ".py",
   "mimetype": "text/x-python",
   "name": "python",
   "nbconvert_exporter": "python",
   "pygments_lexer": "ipython2",
   "version": "2.7.10"
  }
 },
 "nbformat": 4,
 "nbformat_minor": 0
}
