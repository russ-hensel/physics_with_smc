{
 "cells": [
  {
   "cell_type": "code",
   "execution_count": null,
   "metadata": {
    "collapsed": false
   },
   "outputs": [],
   "source": [
    "from vpython import *\n",
    "from math import sqrt\n",
    "\n",
    "# Written by Ruth Chabay, licensed under Creative Commons 4.0.\n",
    "# All uses permitted, but you must not claim that you wrote it, and\n",
    "# you must include this license information in any copies you make.\n",
    "# For details see http://creativecommons.org/licenses/by/4.0\n",
    "\n",
    "## impact parameter\n",
    "##b = 0\n",
    "b = 15e-15  \n",
    "##b = 80e-15\n",
    "\n",
    "# alpha particle charge/e, mass/mp\n",
    "projectileproperties = (2,4) \n",
    "##projectileproperties = (-1,(9e-31/1.7e-27))    ## electron\n",
    "\n",
    "# oxygen nucleus charge/3, mass/mp\n",
    "targetproperties = (8,16) \n",
    "##targetproperties = (2,4) # alpha particle\n",
    "##targetproperties = (1,(9e-31/1.7e-27))    ## positron\n",
    "\n",
    "## make radii bigger for visual impact\n",
    "rpscale = 2 \n",
    "parroVisible = 1\n",
    "\n",
    "scene.width = 1000\n",
    "scene.height = 650\n",
    "scene.x = scene.y = 0\n",
    "scene.background = color.white\n",
    "scene.fov = 0.01\n",
    "range0 = 200e-15\n",
    "scene.range = range0\n",
    "xstart = 0.95*range0\n",
    "\n",
    "kcoul = 9e9\n",
    "qe = 1.6e-19\n",
    "mproton = 1.7e-27\n",
    "rproton = 1.3e-15*rpscale\n",
    "alpha = sphere(pos=vector(-xstart,b,0), color=color.red, make_trail=True, interval=40)\n",
    "target = sphere(pos=vector(0,0,0), color=color.blue, make_trail=True, interval=40)\n",
    "alpha.mass = projectileproperties[1]*mproton\n",
    "alpha.radius = (alpha.mass/mproton)**(1./3.)*rproton\n",
    "alpha.q = projectileproperties[0]*qe\n",
    "ke = 1e6*qe\n",
    "alpha.p = vector(sqrt(2.*alpha.mass*ke),0,0)\n",
    "target.mass = targetproperties[1]*mproton\n",
    "target.radius = (target.mass/mproton)**(1./3.)*rproton\n",
    "target.q = targetproperties[0]*qe\n",
    "target.p = vector(0,0,0)\n",
    "dt = (5.*xstart/(mag(alpha.p)/alpha.mass)/1e5)*10\n",
    "ptot = alpha.p+target.p\n",
    "vcm = ptot/(alpha.mass+target.mass)\n",
    "\n",
    "pscale = 40e-15/4e-20\n",
    "paarro = arrow(pos=alpha.pos, axis=alpha.p*pscale, color=color.cyan, shaftwidth = 0.5*alpha.radius, fixedwidth=1, visible=parroVisible)\n",
    "ptarro = arrow(pos=target.pos, axis=target.p*pscale, color=color.magenta, shaftwidth = 0.5*alpha.radius, fixedwidth=1, visible=parroVisible)\n",
    "\n",
    "##alpha.p = alpha.p-alpha.mass*vcm\n",
    "##target.p = target.p-target.mass*vcm\n",
    "\n",
    "\n",
    "while True:\n",
    "    rate(500)\n",
    "    r12 = alpha.pos-target.pos\n",
    "    F = (kcoul*alpha.q*target.q/mag(r12)**2)*norm(r12)\n",
    "    alpha.p = alpha.p + F*dt\n",
    "    target.p = target.p - F*dt\n",
    "    alpha.pos = alpha.pos + (alpha.p/alpha.mass)*dt\n",
    "    target.pos = target.pos + (target.p/target.mass)*dt\n",
    "    paarro.pos = alpha.pos\n",
    "    paarro.axis = alpha.p*pscale\n",
    "    ptarro.pos = target.pos\n",
    "    ptarro.axis = target.p*pscale"
   ]
  },
  {
   "cell_type": "code",
   "execution_count": null,
   "metadata": {
    "collapsed": true
   },
   "outputs": [],
   "source": []
  }
 ],
 "metadata": {
  "kernelspec": {
   "display_name": "Python 2 (SageMath)",
   "language": "python",
   "name": "python2"
  },
  "language_info": {
   "codemirror_mode": {
    "name": "ipython",
    "version": 2
   },
   "file_extension": ".py",
   "mimetype": "text/x-python",
   "name": "python",
   "nbconvert_exporter": "python",
   "pygments_lexer": "ipython2",
   "version": "2.7.10"
  }
 },
 "nbformat": 4,
 "nbformat_minor": 0
}
